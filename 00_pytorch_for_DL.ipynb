{
  "nbformat": 4,
  "nbformat_minor": 0,
  "metadata": {
    "colab": {
      "provenance": [],
      "authorship_tag": "ABX9TyNSua2NR1bbGo/yLKN0HrdS",
      "include_colab_link": true
    },
    "kernelspec": {
      "name": "python3",
      "display_name": "Python 3"
    },
    "language_info": {
      "name": "python"
    },
    "gpuClass": "standard"
  },
  "cells": [
    {
      "cell_type": "markdown",
      "metadata": {
        "id": "view-in-github",
        "colab_type": "text"
      },
      "source": [
        "<a href=\"https://colab.research.google.com/github/IamAtreus/00-Tensorflow/blob/PyTorch/00_pytorch_for_DL.ipynb\" target=\"_parent\"><img src=\"https://colab.research.google.com/assets/colab-badge.svg\" alt=\"Open In Colab\"/></a>"
      ]
    },
    {
      "cell_type": "markdown",
      "source": [
        "###PyTorch in Deep Learning\n",
        "**Prelude to UCL project with deadline on december 15**\n"
      ],
      "metadata": {
        "id": "FOFa97RI5q5W"
      }
    },
    {
      "cell_type": "code",
      "source": [
        "import tensorflow as tf\n",
        "import numpy as np\n",
        "import torch as t\n",
        "import torchvision as tv \n",
        "import torchaudio as ta \n",
        "import matplotlib.pyplot as plt\n",
        "\n",
        "print(t.__version__)\n"
      ],
      "metadata": {
        "colab": {
          "base_uri": "https://localhost:8080/"
        },
        "id": "0Pm5buhvBNcH",
        "outputId": "4752f530-7f30-4a8c-d7bf-4121e247fa36"
      },
      "execution_count": 1,
      "outputs": [
        {
          "output_type": "stream",
          "name": "stdout",
          "text": [
            "1.12.1+cu113\n"
          ]
        }
      ]
    },
    {
      "cell_type": "code",
      "source": [
        "!nvidia-smi\n"
      ],
      "metadata": {
        "colab": {
          "base_uri": "https://localhost:8080/"
        },
        "id": "ZlFlV4lDLybO",
        "outputId": "92310741-12fd-4d5d-cfa0-e667f4d957b3"
      },
      "execution_count": 2,
      "outputs": [
        {
          "output_type": "stream",
          "name": "stdout",
          "text": [
            "NVIDIA-SMI has failed because it couldn't communicate with the NVIDIA driver. Make sure that the latest NVIDIA driver is installed and running.\n",
            "\n"
          ]
        }
      ]
    },
    {
      "cell_type": "code",
      "source": [
        "## Tensors\n",
        "## scaler\n",
        "scalar = t.tensor(7)\n",
        "scalar\n"
      ],
      "metadata": {
        "colab": {
          "base_uri": "https://localhost:8080/"
        },
        "id": "Glo6vxlJzZiQ",
        "outputId": "3dd91d95-413c-41eb-fd60-1cf4182fa8e4"
      },
      "execution_count": 3,
      "outputs": [
        {
          "output_type": "execute_result",
          "data": {
            "text/plain": [
              "tensor(7)"
            ]
          },
          "metadata": {},
          "execution_count": 3
        }
      ]
    },
    {
      "cell_type": "code",
      "source": [
        "scalar.ndim\n",
        "scalar.item()\n"
      ],
      "metadata": {
        "colab": {
          "base_uri": "https://localhost:8080/"
        },
        "id": "_8Cfm0tk0ED4",
        "outputId": "2f4ff163-579a-4452-ab53-076d72a3d177"
      },
      "execution_count": 4,
      "outputs": [
        {
          "output_type": "execute_result",
          "data": {
            "text/plain": [
              "7"
            ]
          },
          "metadata": {},
          "execution_count": 4
        }
      ]
    },
    {
      "cell_type": "code",
      "source": [
        "# vector\n",
        "vector = t.tensor([7, 7]) \n",
        "\n",
        "vector\n"
      ],
      "metadata": {
        "colab": {
          "base_uri": "https://localhost:8080/"
        },
        "id": "vWEBUAP10jbh",
        "outputId": "9d5f43d2-1c30-4bd4-8e1e-13de892f083a"
      },
      "execution_count": 5,
      "outputs": [
        {
          "output_type": "execute_result",
          "data": {
            "text/plain": [
              "tensor([7, 7])"
            ]
          },
          "metadata": {},
          "execution_count": 5
        }
      ]
    },
    {
      "cell_type": "code",
      "source": [
        "vector.ndim\n"
      ],
      "metadata": {
        "colab": {
          "base_uri": "https://localhost:8080/"
        },
        "id": "h-IGrFbY088g",
        "outputId": "31c20f4b-071b-4b83-a9cf-14462ae41768"
      },
      "execution_count": 6,
      "outputs": [
        {
          "output_type": "execute_result",
          "data": {
            "text/plain": [
              "1"
            ]
          },
          "metadata": {},
          "execution_count": 6
        }
      ]
    },
    {
      "cell_type": "code",
      "source": [
        "vector.shape"
      ],
      "metadata": {
        "colab": {
          "base_uri": "https://localhost:8080/"
        },
        "id": "W3dVQY600_V4",
        "outputId": "8c8ae31d-4f61-4d1e-bee5-389961bce127"
      },
      "execution_count": 7,
      "outputs": [
        {
          "output_type": "execute_result",
          "data": {
            "text/plain": [
              "torch.Size([2])"
            ]
          },
          "metadata": {},
          "execution_count": 7
        }
      ]
    },
    {
      "cell_type": "code",
      "source": [
        "matrix = t.tensor([[ 7, 8],\n",
        "                  [9, 10]])\n",
        "matrix.shape"
      ],
      "metadata": {
        "colab": {
          "base_uri": "https://localhost:8080/"
        },
        "id": "JiIoN0FU1Cj4",
        "outputId": "09ae7dfc-0f7a-4d54-e780-737dee921b7e"
      },
      "execution_count": 8,
      "outputs": [
        {
          "output_type": "execute_result",
          "data": {
            "text/plain": [
              "torch.Size([2, 2])"
            ]
          },
          "metadata": {},
          "execution_count": 8
        }
      ]
    },
    {
      "cell_type": "code",
      "source": [
        "TENSOR = t.tensor([[[1, 2, 3],\n",
        "                    [4, 6, 9],\n",
        "                    [23, 34, 76]]])\n",
        "TENSOR"
      ],
      "metadata": {
        "colab": {
          "base_uri": "https://localhost:8080/"
        },
        "id": "zabJHO261evI",
        "outputId": "4981997f-1ca7-45c4-b55a-11fb1a721e75"
      },
      "execution_count": 9,
      "outputs": [
        {
          "output_type": "execute_result",
          "data": {
            "text/plain": [
              "tensor([[[ 1,  2,  3],\n",
              "         [ 4,  6,  9],\n",
              "         [23, 34, 76]]])"
            ]
          },
          "metadata": {},
          "execution_count": 9
        }
      ]
    },
    {
      "cell_type": "code",
      "source": [
        "TENSOR.ndim"
      ],
      "metadata": {
        "colab": {
          "base_uri": "https://localhost:8080/"
        },
        "id": "pnxvUX8l1x6I",
        "outputId": "f1195000-f699-4788-b6d3-78a742958a9d"
      },
      "execution_count": 10,
      "outputs": [
        {
          "output_type": "execute_result",
          "data": {
            "text/plain": [
              "3"
            ]
          },
          "metadata": {},
          "execution_count": 10
        }
      ]
    },
    {
      "cell_type": "code",
      "source": [
        "random_tensor = t.rand(1, 10, 10)\n",
        "random_tensor"
      ],
      "metadata": {
        "colab": {
          "base_uri": "https://localhost:8080/"
        },
        "id": "xZDkKtUg2Nhw",
        "outputId": "dcc6c946-c46e-4bfe-8cf1-ec9835914fba"
      },
      "execution_count": 11,
      "outputs": [
        {
          "output_type": "execute_result",
          "data": {
            "text/plain": [
              "tensor([[[0.8763, 0.1691, 0.2178, 0.8251, 0.9095, 0.5902, 0.6615, 0.2344,\n",
              "          0.6191, 0.3686],\n",
              "         [0.8825, 0.0326, 0.1415, 0.9978, 0.1035, 0.7818, 0.3663, 0.5202,\n",
              "          0.7626, 0.0117],\n",
              "         [0.3641, 0.5191, 0.3808, 0.1832, 0.2035, 0.7876, 0.0661, 0.5547,\n",
              "          0.8872, 0.4263],\n",
              "         [0.1862, 0.0629, 0.9562, 0.2703, 0.7781, 0.2600, 0.8575, 0.3983,\n",
              "          0.4092, 0.7862],\n",
              "         [0.6716, 0.2824, 0.1844, 0.2662, 0.9737, 0.5598, 0.6663, 0.6981,\n",
              "          0.0089, 0.0266],\n",
              "         [0.4789, 0.1847, 0.1069, 0.9141, 0.9100, 0.3177, 0.8217, 0.2207,\n",
              "          0.9427, 0.5508],\n",
              "         [0.7523, 0.6906, 0.6216, 0.8726, 0.5301, 0.7293, 0.8916, 0.7154,\n",
              "          0.4123, 0.4021],\n",
              "         [0.8570, 0.2908, 0.5427, 0.5102, 0.8202, 0.8590, 0.1384, 0.9810,\n",
              "          0.5446, 0.3054],\n",
              "         [0.0765, 0.5522, 0.4553, 0.7415, 0.3284, 0.0488, 0.3707, 0.8517,\n",
              "          0.0183, 0.3994],\n",
              "         [0.0676, 0.6705, 0.2995, 0.9983, 0.8237, 0.8995, 0.2585, 0.3846,\n",
              "          0.3538, 0.9178]]])"
            ]
          },
          "metadata": {},
          "execution_count": 11
        }
      ]
    },
    {
      "cell_type": "code",
      "source": [
        "# image tensor\n",
        "random_image_size_tensor = t.rand(size=(224, 224 ,3))\n",
        "random_image_size_tensor.shape, random_image_size_tensor.ndim"
      ],
      "metadata": {
        "colab": {
          "base_uri": "https://localhost:8080/"
        },
        "id": "8VvHPYdu39d2",
        "outputId": "8ed1d9c9-2696-4cc8-8921-6620ac3496a1"
      },
      "execution_count": 12,
      "outputs": [
        {
          "output_type": "execute_result",
          "data": {
            "text/plain": [
              "(torch.Size([224, 224, 3]), 3)"
            ]
          },
          "metadata": {},
          "execution_count": 12
        }
      ]
    },
    {
      "cell_type": "markdown",
      "source": [
        "### tensors range"
      ],
      "metadata": {
        "id": "xizdEgCk49Jg"
      }
    },
    {
      "cell_type": "code",
      "source": [
        "on_to_ten = t.arange(start=0, end=10, step=1) # instead of range\n",
        "on_to_ten"
      ],
      "metadata": {
        "colab": {
          "base_uri": "https://localhost:8080/"
        },
        "id": "_lErPQcL52Ln",
        "outputId": "a3ca022c-a8a4-4b23-fd0e-edd3a95ad52a"
      },
      "execution_count": 13,
      "outputs": [
        {
          "output_type": "execute_result",
          "data": {
            "text/plain": [
              "tensor([0, 1, 2, 3, 4, 5, 6, 7, 8, 9])"
            ]
          },
          "metadata": {},
          "execution_count": 13
        }
      ]
    },
    {
      "cell_type": "markdown",
      "source": [
        "# PyTorch tensors and NumPy\n"
      ],
      "metadata": {
        "id": "BSpFWGQx6e5X"
      }
    },
    {
      "cell_type": "code",
      "source": [
        "import torch as t\n",
        "import numpy as np \n",
        "\n",
        "array = np.arange(1.0, 8.0)\n",
        "torch = t.from_numpy(array) # converts to dtype float64 from numpy float32\n",
        "array, torch"
      ],
      "metadata": {
        "colab": {
          "base_uri": "https://localhost:8080/"
        },
        "id": "6Jl1dBsj8dFX",
        "outputId": "599c7eb4-a2c8-4df5-fc2f-901160a7dc18"
      },
      "execution_count": 19,
      "outputs": [
        {
          "output_type": "execute_result",
          "data": {
            "text/plain": [
              "(array([1., 2., 3., 4., 5., 6., 7.]),\n",
              " tensor([1., 2., 3., 4., 5., 6., 7.], dtype=torch.float64))"
            ]
          },
          "metadata": {},
          "execution_count": 19
        }
      ]
    },
    {
      "cell_type": "code",
      "source": [
        "tensor = t.ones(7)\n",
        "numpy_tensors = tensor.numpy()\n",
        "tensor, numpy_tensors"
      ],
      "metadata": {
        "colab": {
          "base_uri": "https://localhost:8080/"
        },
        "id": "afyVD8DI92P2",
        "outputId": "8ab2a621-edbb-4f42-d542-ff9657ee2040"
      },
      "execution_count": 21,
      "outputs": [
        {
          "output_type": "execute_result",
          "data": {
            "text/plain": [
              "(tensor([1., 1., 1., 1., 1., 1., 1.]),\n",
              " array([1., 1., 1., 1., 1., 1., 1.], dtype=float32))"
            ]
          },
          "metadata": {},
          "execution_count": 21
        }
      ]
    },
    {
      "cell_type": "code",
      "source": [],
      "metadata": {
        "id": "-UaqNct6-VZX"
      },
      "execution_count": null,
      "outputs": []
    }
  ]
}