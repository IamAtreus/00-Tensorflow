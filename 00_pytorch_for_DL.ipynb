{
  "nbformat": 4,
  "nbformat_minor": 0,
  "metadata": {
    "colab": {
      "provenance": [],
      "authorship_tag": "ABX9TyN9+n9N9Tu/q3kuqdlgVxmy",
      "include_colab_link": true
    },
    "kernelspec": {
      "name": "python3",
      "display_name": "Python 3"
    },
    "language_info": {
      "name": "python"
    }
  },
  "cells": [
    {
      "cell_type": "markdown",
      "metadata": {
        "id": "view-in-github",
        "colab_type": "text"
      },
      "source": [
        "<a href=\"https://colab.research.google.com/github/IamAtreus/00-Tensorflow/blob/PyTorch/00_pytorch_for_DL.ipynb\" target=\"_parent\"><img src=\"https://colab.research.google.com/assets/colab-badge.svg\" alt=\"Open In Colab\"/></a>"
      ]
    },
    {
      "cell_type": "markdown",
      "source": [
        "###PyTorch in Deep Learning\n",
        "**Prelude to UCL project with deadline on december 15**\n"
      ],
      "metadata": {
        "id": "FOFa97RI5q5W"
      }
    },
    {
      "cell_type": "code",
      "source": [
        "import tensorflow as tf\n",
        "import numpy as np\n",
        "import torch as t\n",
        "import torchvision as tv \n",
        "import torchaudio as ta \n",
        "\n"
      ],
      "metadata": {
        "id": "0Pm5buhvBNcH"
      },
      "execution_count": 3,
      "outputs": []
    }
  ]
}