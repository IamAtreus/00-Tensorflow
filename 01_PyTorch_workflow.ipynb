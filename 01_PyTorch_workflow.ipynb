{
  "nbformat": 4,
  "nbformat_minor": 0,
  "metadata": {
    "colab": {
      "provenance": [],
      "authorship_tag": "ABX9TyPZOolKTXM17YEhdGiYhBJN",
      "include_colab_link": true
    },
    "kernelspec": {
      "name": "python3",
      "display_name": "Python 3"
    },
    "language_info": {
      "name": "python"
    }
  },
  "cells": [
    {
      "cell_type": "markdown",
      "metadata": {
        "id": "view-in-github",
        "colab_type": "text"
      },
      "source": [
        "<a href=\"https://colab.research.google.com/github/IamAtreus/00-Tensorflow/blob/PyTorch/01_PyTorch_workflow.ipynb\" target=\"_parent\"><img src=\"https://colab.research.google.com/assets/colab-badge.svg\" alt=\"Open In Colab\"/></a>"
      ]
    },
    {
      "cell_type": "code",
      "execution_count": 1,
      "metadata": {
        "colab": {
          "base_uri": "https://localhost:8080/"
        },
        "id": "m_JhIpAydixJ",
        "outputId": "5a8fa43a-6b50-4ee8-c048-6b88b8cfa1b1"
      },
      "outputs": [
        {
          "output_type": "stream",
          "name": "stdout",
          "text": [
            "1.12.1+cu113\n"
          ]
        }
      ],
      "source": [
        "import tensorflow as tf\n",
        "import numpy as np\n",
        "import torch\n",
        "from torch import nn\n",
        "import torchvision as tv \n",
        "import torchaudio as ta \n",
        "import matplotlib.pyplot as plt\n",
        "\n",
        "print(torch.__version__)"
      ]
    },
    {
      "cell_type": "markdown",
      "source": [
        "## 1. Data (preparing and loading)\n",
        "* Speadssheet\n",
        "* images\n",
        "* video\n",
        "* audio\n",
        "* text\n",
        "* Even DNA\n",
        "\n",
        "Can be converted to numbers, it can be used."
      ],
      "metadata": {
        "id": "q-M2aPDOd0Mp"
      }
    },
    {
      "cell_type": "markdown",
      "source": [
        "# starting with Y=a+bx\n"
      ],
      "metadata": {
        "id": "zZ4nBDU-gDRg"
      }
    },
    {
      "cell_type": "code",
      "source": [
        "weight = 0.7 # a\n",
        "bias = 0.3 # b\n",
        "\n",
        "start = 0\n",
        "end = 1\n",
        "step = 0.02\n",
        "X = torch.arange(start, end, step).unsqueeze(dim=1) # X in ml is always uppercase\n",
        "y = weight * X + bias\n",
        "\n",
        "X[:10], y[:10]\n"
      ],
      "metadata": {
        "colab": {
          "base_uri": "https://localhost:8080/"
        },
        "id": "KuK79Bv4g6DH",
        "outputId": "c80fdd48-9f6e-48da-b1fa-cc6eb04b5577"
      },
      "execution_count": 2,
      "outputs": [
        {
          "output_type": "execute_result",
          "data": {
            "text/plain": [
              "(tensor([[0.0000],\n",
              "         [0.0200],\n",
              "         [0.0400],\n",
              "         [0.0600],\n",
              "         [0.0800],\n",
              "         [0.1000],\n",
              "         [0.1200],\n",
              "         [0.1400],\n",
              "         [0.1600],\n",
              "         [0.1800]]), tensor([[0.3000],\n",
              "         [0.3140],\n",
              "         [0.3280],\n",
              "         [0.3420],\n",
              "         [0.3560],\n",
              "         [0.3700],\n",
              "         [0.3840],\n",
              "         [0.3980],\n",
              "         [0.4120],\n",
              "         [0.4260]]))"
            ]
          },
          "metadata": {},
          "execution_count": 2
        }
      ]
    },
    {
      "cell_type": "code",
      "source": [
        "len(X), len(y)\n"
      ],
      "metadata": {
        "colab": {
          "base_uri": "https://localhost:8080/"
        },
        "id": "J7vvtbcRh7Ug",
        "outputId": "5c4735e5-fed1-4410-9c04-244f69c4b186"
      },
      "execution_count": 3,
      "outputs": [
        {
          "output_type": "execute_result",
          "data": {
            "text/plain": [
              "(50, 50)"
            ]
          },
          "metadata": {},
          "execution_count": 3
        }
      ]
    },
    {
      "cell_type": "markdown",
      "source": [
        "## *Splitting data into training and test sets*"
      ],
      "metadata": {
        "id": "FvRqzkOPh_ZA"
      }
    },
    {
      "cell_type": "code",
      "source": [
        "# Creating data spilt for training and test\n",
        "\n",
        "train_split = int(0.8 * len(X))\n",
        "X_train, y_train = X[:train_split], y[:train_split]\n",
        "X_test, y_test = X[train_split:], y[train_split:]\n",
        "\n",
        "len(X_train), len(y_train), len(X_test), len(y_test)\n"
      ],
      "metadata": {
        "colab": {
          "base_uri": "https://localhost:8080/"
        },
        "id": "U3UAlw_8iq1m",
        "outputId": "dd2ab555-8b34-4ae5-e2d0-d64321df9c70"
      },
      "execution_count": 4,
      "outputs": [
        {
          "output_type": "execute_result",
          "data": {
            "text/plain": [
              "(40, 40, 10, 10)"
            ]
          },
          "metadata": {},
          "execution_count": 4
        }
      ]
    },
    {
      "cell_type": "code",
      "source": [
        "def plot_predictions(train_data=X_train,\n",
        "                     train_labels=y_train,\n",
        "                     test_data=X_test,\n",
        "                     test_labels=y_test,\n",
        "                     predictions=None):\n",
        "\n",
        "  plt.figure(figsize=(10, 7))\n",
        "\n",
        "  plt.scatter(train_data, train_labels, c=\"b\", s=4, label=\"training data\")\n",
        "\n",
        "  plt.scatter(test_data, test_labels, c=\"g\", s=4, label=\"test data\")\n",
        "\n",
        "  if predictions is not None:\n",
        "    plt.scatter(test_data, predictions, c=\"r\", s=4, label=\"predictions\")\n",
        "  \n",
        "  plt.legend(prop={\"size\": 14})\n",
        "\n",
        "  \n",
        "\n",
        "  \n",
        "\n"
      ],
      "metadata": {
        "id": "Nbhgx2iMsGnT"
      },
      "execution_count": 5,
      "outputs": []
    },
    {
      "cell_type": "code",
      "source": [
        "plot_predictions();"
      ],
      "metadata": {
        "colab": {
          "base_uri": "https://localhost:8080/",
          "height": 428
        },
        "id": "mbgpdwpRutt7",
        "outputId": "f2e6800d-750a-4d8b-c904-8756a66fdf53"
      },
      "execution_count": 6,
      "outputs": [
        {
          "output_type": "display_data",
          "data": {
            "text/plain": [
              "<Figure size 720x504 with 1 Axes>"
            ],
            "image/png": "[encoded data removed]"
          },
          "metadata": {
            "needs_background": "light"
          }
        }
      ]
    },
    {
      "cell_type": "markdown",
      "source": [
        "## Building a model"
      ],
      "metadata": {
        "id": "4oR4lnL1u5IK"
      }
    },
    {
      "cell_type": "code",
      "source": [
        "class LinearRegressionModel(nn.Module):\n",
        "  def __init__(self):\n",
        "    super().__init__()\n",
        "    self.weights = nn.Parameter(torch.randn(1,\n",
        "                                           requires_grad=True,\n",
        "                                           dtype=torch.float))\n",
        "    self.bias = nn.Parameter(torch.randn(1,\n",
        "                                         requires_grad=True,\n",
        "                                         dtype=torch.float))\n",
        "  def forward(self, x: torch.Tensor) -> torch.Tensor:\n",
        "    return self.weights * x + self.bias # y=a+bx\n",
        "\n"
      ],
      "metadata": {
        "id": "XyIhGP27vIeq"
      },
      "execution_count": 7,
      "outputs": []
    },
    {
      "cell_type": "markdown",
      "source": [
        "### PyTorch model building essentials\n",
        "\n",
        "* torch.nn - contains all of the buildings for cpu graph\n",
        "* torch.nn.Parameter - what parameter model try and learn\n",
        "* torch.nn.Moduel - the base class for nn \n",
        "* torch.optim - optimizers\n",
        "* def forward() - base moduels for all nn.Modules\n"
      ],
      "metadata": {
        "id": "YvNwshR-FAqz"
      }
    },
    {
      "cell_type": "code",
      "source": [
        "# create a random seed\n",
        "\n",
        "torch.manual_seed(42)\n",
        "\n",
        "# create a instance\n",
        "\n",
        "model_0 = LinearRegressionModel()\n",
        "\n",
        "# check the prem\n",
        "\n",
        "list(model_0.parameters())\n",
        "\n"
      ],
      "metadata": {
        "colab": {
          "base_uri": "https://localhost:8080/"
        },
        "id": "RYAsg_zUF2m6",
        "outputId": "a9c1d851-fdac-47e3-c32b-77f1fa025ae9"
      },
      "execution_count": 8,
      "outputs": [
        {
          "output_type": "execute_result",
          "data": {
            "text/plain": [
              "[Parameter containing:\n",
              " tensor([0.3367], requires_grad=True), Parameter containing:\n",
              " tensor([0.1288], requires_grad=True)]"
            ]
          },
          "metadata": {},
          "execution_count": 8
        }
      ]
    },
    {
      "cell_type": "code",
      "source": [
        "model_0.state_dict()"
      ],
      "metadata": {
        "colab": {
          "base_uri": "https://localhost:8080/"
        },
        "id": "IGEyNGZHIVu3",
        "outputId": "5718fe6f-64ec-4ff3-d021-55c6ae3c3fbb"
      },
      "execution_count": 9,
      "outputs": [
        {
          "output_type": "execute_result",
          "data": {
            "text/plain": [
              "OrderedDict([('weights', tensor([0.3367])), ('bias', tensor([0.1288]))])"
            ]
          },
          "metadata": {},
          "execution_count": 9
        }
      ]
    },
    {
      "cell_type": "markdown",
      "source": [
        "### Predictions on model"
      ],
      "metadata": {
        "id": "mAio63T3IcWn"
      }
    },
    {
      "cell_type": "code",
      "source": [
        "# using torch.interence_mode()\n",
        "\n",
        "with torch.inference_mode(): # context manager\n",
        "  y_pred = model_0(X_test)\n",
        "\n",
        "y_pred"
      ],
      "metadata": {
        "colab": {
          "base_uri": "https://localhost:8080/"
        },
        "id": "2wzSOg31I8Pj",
        "outputId": "7f48dbf5-8f69-4a47-cd0c-45ac74e7eb80"
      },
      "execution_count": 17,
      "outputs": [
        {
          "output_type": "execute_result",
          "data": {
            "text/plain": [
              "tensor([[0.3982],\n",
              "        [0.4049],\n",
              "        [0.4116],\n",
              "        [0.4184],\n",
              "        [0.4251],\n",
              "        [0.4318],\n",
              "        [0.4386],\n",
              "        [0.4453],\n",
              "        [0.4520],\n",
              "        [0.4588]])"
            ]
          },
          "metadata": {},
          "execution_count": 17
        }
      ]
    },
    {
      "cell_type": "code",
      "source": [
        "plot_predictions(predictions=y_preds)"
      ],
      "metadata": {
        "colab": {
          "base_uri": "https://localhost:8080/",
          "height": 428
        },
        "id": "3ZPb3EkbLRxD",
        "outputId": "6019e4bd-3c27-4ec8-d0d1-766bc987a50f"
      },
      "execution_count": 11,
      "outputs": [
        {
          "output_type": "display_data",
          "data": {
            "text/plain": [
              "<Figure size 720x504 with 1 Axes>"
            ],
            "image/png": "[encoded data removed]"
          },
          "metadata": {
            "needs_background": "light"
          }
        }
      ]
    },
    {
      "cell_type": "markdown",
      "source": [
        "### Training the model intuition"
      ],
      "metadata": {
        "id": "qQ0eA1zXMaxf"
      }
    },
    {
      "cell_type": "code",
      "source": [
        "list(model_0.parameters())\n"
      ],
      "metadata": {
        "colab": {
          "base_uri": "https://localhost:8080/"
        },
        "id": "vfSHQmhGNsfA",
        "outputId": "333a066e-e55b-45ca-aba9-03aef6f09ce8"
      },
      "execution_count": 12,
      "outputs": [
        {
          "output_type": "execute_result",
          "data": {
            "text/plain": [
              "[Parameter containing:\n",
              " tensor([0.3367], requires_grad=True), Parameter containing:\n",
              " tensor([0.1288], requires_grad=True)]"
            ]
          },
          "metadata": {},
          "execution_count": 12
        }
      ]
    },
    {
      "cell_type": "code",
      "source": [
        "model_0.state_dict()"
      ],
      "metadata": {
        "colab": {
          "base_uri": "https://localhost:8080/"
        },
        "id": "ei2FsmUSPXdj",
        "outputId": "072cce6a-0964-4f96-9478-913cbcc76e3a"
      },
      "execution_count": 13,
      "outputs": [
        {
          "output_type": "execute_result",
          "data": {
            "text/plain": [
              "OrderedDict([('weights', tensor([0.3367])), ('bias', tensor([0.1288]))])"
            ]
          },
          "metadata": {},
          "execution_count": 13
        }
      ]
    },
    {
      "cell_type": "code",
      "source": [
        "# setup loss function. For images nn.BCELoss can be used with better results\n",
        "\n",
        "loss_fn = nn.L1Loss()\n",
        "\n",
        "# setup an optimizer\n",
        "# algo: stochastic gradient decent.\n",
        "optimizer = torch.optim.SGD(params=model_0.parameters(),\n",
        "                            lr=0.0001)\n",
        "\n",
        "\n",
        "\n"
      ],
      "metadata": {
        "id": "ZKAgiAv5PngJ"
      },
      "execution_count": 15,
      "outputs": []
    },
    {
      "cell_type": "markdown",
      "source": [
        "### building a trainingloop and a training loop in PyTorch\n",
        "\n",
        "0. Loop the data\n",
        "1. forward propagation\n",
        "2. Calc the loss, compagre forward predicition to ground truth\n",
        "3. optimizer zero grad\n",
        "4. Loss backward trhrough the network. ( **backpropagation** )\n",
        "5. Optimizer step. ( **gradient decent** )"
      ],
      "metadata": {
        "id": "P1o9BU7F_hT_"
      }
    },
    {
      "cell_type": "code",
      "source": [
        "epochs = 1\n",
        "# 0.\n",
        "for epoch in range(epochs):\n",
        "  model_0.train()\n",
        "\n",
        "  # 1.\n",
        "  y_pred = model_0(X_train)\n",
        "  \n",
        "  # 2.\n",
        "  loss = loss_fn(y_pred, y_train)\n",
        "\n",
        "  # 3.\n",
        "  optimizer.zero_grad()\n",
        "\n",
        "  # 4.\n",
        "  loss.backward()\n",
        "\n",
        "  # 5.\n",
        "  optimizer.step()\n",
        "\n",
        "  #model_0.eval()\n"
      ],
      "metadata": {
        "id": "UreSTA9t_mVj"
      },
      "execution_count": 18,
      "outputs": []
    }
  ]
}