{
  "nbformat": 4,
  "nbformat_minor": 0,
  "metadata": {
    "colab": {
      "provenance": [],
      "collapsed_sections": [],
      "authorship_tag": "ABX9TyOnQPedVRmZfQlYiIjrUD2c",
      "include_colab_link": true
    },
    "kernelspec": {
      "name": "python3",
      "display_name": "Python 3"
    },
    "language_info": {
      "name": "python"
    }
  },
  "cells": [
    {
      "cell_type": "markdown",
      "metadata": {
        "id": "view-in-github",
        "colab_type": "text"
      },
      "source": [
        "<a href=\"https://colab.research.google.com/github/IamAtreus/00-Tensorflow/blob/PyTorch/01_PyTorch_workflow.ipynb\" target=\"_parent\"><img src=\"https://colab.research.google.com/assets/colab-badge.svg\" alt=\"Open In Colab\"/></a>"
      ]
    },
    {
      "cell_type": "code",
      "execution_count": 1,
      "metadata": {
        "colab": {
          "base_uri": "https://localhost:8080/"
        },
        "id": "m_JhIpAydixJ",
        "outputId": "1cb650c9-3565-4bf4-b9dd-29f7dd6c5b5e"
      },
      "outputs": [
        {
          "output_type": "stream",
          "name": "stdout",
          "text": [
            "1.12.1+cu113\n"
          ]
        }
      ],
      "source": [
        "import tensorflow as tf\n",
        "import numpy as np\n",
        "import torch\n",
        "from torch import nn\n",
        "import torchvision as tv \n",
        "import torchaudio as ta \n",
        "import matplotlib.pyplot as plt\n",
        "\n",
        "print(torch.__version__)"
      ]
    },
    {
      "cell_type": "markdown",
      "source": [
        "## 1. Data (preparing and loading)\n",
        "* Speadssheet\n",
        "* images\n",
        "* video\n",
        "* audio\n",
        "* text\n",
        "* Even DNA\n",
        "\n",
        "Can be converted to numbers, it can be used."
      ],
      "metadata": {
        "id": "q-M2aPDOd0Mp"
      }
    },
    {
      "cell_type": "markdown",
      "source": [
        "# starting with Y=a+bx\n"
      ],
      "metadata": {
        "id": "zZ4nBDU-gDRg"
      }
    },
    {
      "cell_type": "code",
      "source": [
        "weight = 0.7 # a\n",
        "bias = 0.3 # b\n",
        "\n",
        "start = 0\n",
        "end = 1\n",
        "step = 0.02\n",
        "X = torch.arange(start, end, step).unsqueeze(dim=1) # X in ml is always uppercase\n",
        "y = weight * X + bias\n",
        "\n",
        "X[:10], y[:10]\n"
      ],
      "metadata": {
        "colab": {
          "base_uri": "https://localhost:8080/"
        },
        "id": "KuK79Bv4g6DH",
        "outputId": "99959cc4-b811-47fb-8969-f3e59f78f83b"
      },
      "execution_count": 2,
      "outputs": [
        {
          "output_type": "execute_result",
          "data": {
            "text/plain": [
              "(tensor([[0.0000],\n",
              "         [0.0200],\n",
              "         [0.0400],\n",
              "         [0.0600],\n",
              "         [0.0800],\n",
              "         [0.1000],\n",
              "         [0.1200],\n",
              "         [0.1400],\n",
              "         [0.1600],\n",
              "         [0.1800]]), tensor([[0.3000],\n",
              "         [0.3140],\n",
              "         [0.3280],\n",
              "         [0.3420],\n",
              "         [0.3560],\n",
              "         [0.3700],\n",
              "         [0.3840],\n",
              "         [0.3980],\n",
              "         [0.4120],\n",
              "         [0.4260]]))"
            ]
          },
          "metadata": {},
          "execution_count": 2
        }
      ]
    },
    {
      "cell_type": "code",
      "source": [
        "len(X), len(y)\n"
      ],
      "metadata": {
        "colab": {
          "base_uri": "https://localhost:8080/"
        },
        "id": "J7vvtbcRh7Ug",
        "outputId": "08366e33-cf6e-4b90-8715-133b410d3583"
      },
      "execution_count": 3,
      "outputs": [
        {
          "output_type": "execute_result",
          "data": {
            "text/plain": [
              "(50, 50)"
            ]
          },
          "metadata": {},
          "execution_count": 3
        }
      ]
    },
    {
      "cell_type": "markdown",
      "source": [
        "## *Splitting data into training and test sets*"
      ],
      "metadata": {
        "id": "FvRqzkOPh_ZA"
      }
    },
    {
      "cell_type": "code",
      "source": [
        "# Creating data spilt for training and test\n",
        "\n",
        "train_split = int(0.8 * len(X))\n",
        "X_train, y_train = X[:train_split], y[:train_split]\n",
        "X_test, y_test = X[train_split:], y[train_split:]\n",
        "\n",
        "len(X_train), len(y_train), len(X_test), len(y_test)\n"
      ],
      "metadata": {
        "colab": {
          "base_uri": "https://localhost:8080/"
        },
        "id": "U3UAlw_8iq1m",
        "outputId": "55d0143f-b7cf-4ad9-d7b0-6aae2f43accb"
      },
      "execution_count": 4,
      "outputs": [
        {
          "output_type": "execute_result",
          "data": {
            "text/plain": [
              "(40, 40, 10, 10)"
            ]
          },
          "metadata": {},
          "execution_count": 4
        }
      ]
    },
    {
      "cell_type": "code",
      "source": [
        "def plot_predictions(train_data=X_train,\n",
        "                     train_labels=y_train,\n",
        "                     test_data=X_test,\n",
        "                     test_labels=y_test,\n",
        "                     predictions=None):\n",
        "\n",
        "  plt.figure(figsize=(10, 7))\n",
        "\n",
        "  plt.scatter(train_data, train_labels, c=\"b\", s=4, label=\"training data\")\n",
        "\n",
        "  plt.scatter(test_data, test_labels, c=\"g\", s=4, label=\"test data\")\n",
        "\n",
        "  if predictions is not None:\n",
        "    plt.scatter(test_data, predictions, c=\"r\", s=4, label=\"predictions\")\n",
        "  \n",
        "  plt.legend(prop={\"size\": 14})\n",
        "\n",
        "  \n",
        "\n",
        "  \n",
        "\n"
      ],
      "metadata": {
        "id": "Nbhgx2iMsGnT"
      },
      "execution_count": 5,
      "outputs": []
    },
    {
      "cell_type": "code",
      "source": [
        "plot_predictions();"
      ],
      "metadata": {
        "colab": {
          "base_uri": "https://localhost:8080/",
          "height": 428
        },
        "id": "mbgpdwpRutt7",
        "outputId": "dea03ab5-2f9b-4a0f-e6ea-9a119b69081e"
      },
      "execution_count": 6,
      "outputs": [
        {
          "output_type": "display_data",
          "data": {
            "text/plain": [
              "<Figure size 720x504 with 1 Axes>"
            ],
            "image/png": "[encoded data removed]"
          },
          "metadata": {
            "needs_background": "light"
          }
        }
      ]
    },
    {
      "cell_type": "markdown",
      "source": [
        "## Building a model"
      ],
      "metadata": {
        "id": "4oR4lnL1u5IK"
      }
    },
    {
      "cell_type": "code",
      "source": [
        "class LinearRegressionModel(nn.Module):\n",
        "  def __init__(self):\n",
        "    super().__init__()\n",
        "    self.weights = nn.Parameter(torch.randn(1,\n",
        "                                           requires_grad=True,\n",
        "                                           dtype=torch.float))\n",
        "    self.bias = nn.Parameter(torch.randn(1,\n",
        "                                         requires_grad=True,\n",
        "                                         dtype=torch.float))\n",
        "  def forward(self, x: torch.Tensor) -> torch.Tensor:\n",
        "    return self.weights * x + self.bias # y=a+bx\n",
        "\n"
      ],
      "metadata": {
        "id": "XyIhGP27vIeq"
      },
      "execution_count": 7,
      "outputs": []
    },
    {
      "cell_type": "markdown",
      "source": [
        "### PyTorch model building essentials\n",
        "\n",
        "* torch.nn - contains all of the buildings for cpu graph\n",
        "* torch.nn.Parameter - what parameter model try and learn\n",
        "* torch.nn.Moduel - the base class for nn \n",
        "* torch.optim - optimizers\n",
        "* def forward() - base moduels for all nn.Modules\n"
      ],
      "metadata": {
        "id": "YvNwshR-FAqz"
      }
    },
    {
      "cell_type": "code",
      "source": [
        "# create a random seed\n",
        "\n",
        "torch.manual_seed(42)\n",
        "\n",
        "# create a instance\n",
        "\n",
        "model_0 = LinearRegressionModel()\n",
        "\n",
        "# check the prem\n",
        "\n",
        "list(model_0.parameters())\n",
        "\n"
      ],
      "metadata": {
        "colab": {
          "base_uri": "https://localhost:8080/"
        },
        "id": "RYAsg_zUF2m6",
        "outputId": "afb9adbd-022c-4898-b1be-5bcf589505fd"
      },
      "execution_count": 8,
      "outputs": [
        {
          "output_type": "execute_result",
          "data": {
            "text/plain": [
              "[Parameter containing:\n",
              " tensor([0.3367], requires_grad=True), Parameter containing:\n",
              " tensor([0.1288], requires_grad=True)]"
            ]
          },
          "metadata": {},
          "execution_count": 8
        }
      ]
    },
    {
      "cell_type": "code",
      "source": [
        "model_0.state_dict()"
      ],
      "metadata": {
        "colab": {
          "base_uri": "https://localhost:8080/"
        },
        "id": "IGEyNGZHIVu3",
        "outputId": "b702f856-04e0-4eb1-d3a5-7198e390d76b"
      },
      "execution_count": 9,
      "outputs": [
        {
          "output_type": "execute_result",
          "data": {
            "text/plain": [
              "OrderedDict([('weights', tensor([0.3367])), ('bias', tensor([0.1288]))])"
            ]
          },
          "metadata": {},
          "execution_count": 9
        }
      ]
    },
    {
      "cell_type": "markdown",
      "source": [
        "### Predictions on model"
      ],
      "metadata": {
        "id": "mAio63T3IcWn"
      }
    },
    {
      "cell_type": "code",
      "source": [
        "# using torch.interence_mode()\n",
        "\n",
        "with torch.inference_mode(): # context manager\n",
        "  y_preds = model_0(X_test)\n",
        "\n",
        "y_preds"
      ],
      "metadata": {
        "colab": {
          "base_uri": "https://localhost:8080/"
        },
        "id": "2wzSOg31I8Pj",
        "outputId": "3b710a70-efd3-4ddd-8483-66fec0d5365f"
      },
      "execution_count": 10,
      "outputs": [
        {
          "output_type": "execute_result",
          "data": {
            "text/plain": [
              "tensor([[0.3982],\n",
              "        [0.4049],\n",
              "        [0.4116],\n",
              "        [0.4184],\n",
              "        [0.4251],\n",
              "        [0.4318],\n",
              "        [0.4386],\n",
              "        [0.4453],\n",
              "        [0.4520],\n",
              "        [0.4588]])"
            ]
          },
          "metadata": {},
          "execution_count": 10
        }
      ]
    },
    {
      "cell_type": "code",
      "source": [
        "plot_predictions(predictions=y_preds)"
      ],
      "metadata": {
        "colab": {
          "base_uri": "https://localhost:8080/",
          "height": 428
        },
        "id": "3ZPb3EkbLRxD",
        "outputId": "69cb35a2-541c-44d7-a10a-89183b9942fa"
      },
      "execution_count": 11,
      "outputs": [
        {
          "output_type": "display_data",
          "data": {
            "text/plain": [
              "<Figure size 720x504 with 1 Axes>"
            ],
            "image/png": "[encoded data removed]"
          },
          "metadata": {
            "needs_background": "light"
          }
        }
      ]
    },
    {
      "cell_type": "markdown",
      "source": [
        "### Training the model intuition"
      ],
      "metadata": {
        "id": "qQ0eA1zXMaxf"
      }
    },
    {
      "cell_type": "code",
      "source": [
        "list(model_0.parameters())\n"
      ],
      "metadata": {
        "colab": {
          "base_uri": "https://localhost:8080/"
        },
        "id": "vfSHQmhGNsfA",
        "outputId": "25575e91-35c1-4efc-91f4-98c8c2af9953"
      },
      "execution_count": 12,
      "outputs": [
        {
          "output_type": "execute_result",
          "data": {
            "text/plain": [
              "[Parameter containing:\n",
              " tensor([0.3367], requires_grad=True), Parameter containing:\n",
              " tensor([0.1288], requires_grad=True)]"
            ]
          },
          "metadata": {},
          "execution_count": 12
        }
      ]
    },
    {
      "cell_type": "code",
      "source": [
        "model_0.state_dict()"
      ],
      "metadata": {
        "colab": {
          "base_uri": "https://localhost:8080/"
        },
        "id": "ei2FsmUSPXdj",
        "outputId": "14203649-920b-4380-d6e0-cdb83a85ef10"
      },
      "execution_count": 13,
      "outputs": [
        {
          "output_type": "execute_result",
          "data": {
            "text/plain": [
              "OrderedDict([('weights', tensor([0.3367])), ('bias', tensor([0.1288]))])"
            ]
          },
          "metadata": {},
          "execution_count": 13
        }
      ]
    },
    {
      "cell_type": "code",
      "source": [
        "# setup loss function. For images nn.BCELoss can be used with better results\n",
        "\n",
        "loss_fn = nn.L1Loss()\n",
        "\n",
        "# setup an optimizer\n",
        "# algo: stochastic gradient decent.\n",
        "optimizer = torch.optim.SGD(params=model_0.parameters(),\n",
        "                            lr=0.001)\n",
        "\n",
        "\n",
        "\n"
      ],
      "metadata": {
        "id": "ZKAgiAv5PngJ"
      },
      "execution_count": 14,
      "outputs": []
    },
    {
      "cell_type": "markdown",
      "source": [
        "### building a trainingloop and a training loop in PyTorch\n",
        "\n",
        "0. Loop the data\n",
        "1. forward propagation\n",
        "2. Calc the loss, compagre forward predicition to ground truth.\n",
        "3. optimizer zero grad\n",
        "4. Loss backward trhrough the network. ( **backpropagation** )\n",
        "5. Optimizer step. ( **gradient decent** )"
      ],
      "metadata": {
        "id": "P1o9BU7F_hT_"
      }
    },
    {
      "cell_type": "code",
      "source": [
        "torch.manual_seed(42)\n",
        "\n",
        "# Set the number of epochs (how many times the model will pass over the training data)\n",
        "epochs = 2000\n",
        "\n",
        "# Create empty loss lists to track values\n",
        "train_loss_values = []\n",
        "test_loss_values = []\n",
        "epoch_count = []\n",
        "\n",
        "for epoch in range(epochs):\n",
        "    ### Training\n",
        "\n",
        "    # Put model in training mode (this is the default state of a model)\n",
        "    model_0.train()\n",
        "\n",
        "    # 1. Forward pass on train data using the forward() method inside \n",
        "    y_pred = model_0(X_train)\n",
        "    # print(y_pred)\n",
        "\n",
        "    # 2. Calculate the loss (how different are our models predictions to the ground truth)\n",
        "    loss = loss_fn(y_pred, y_train)\n",
        "\n",
        "    # 3. Zero grad of the optimizer\n",
        "    optimizer.zero_grad()\n",
        "\n",
        "    # 4. Loss backwards\n",
        "    loss.backward()\n",
        "\n",
        "    # 5. Progress the optimizer\n",
        "    optimizer.step()\n",
        "\n",
        "    ### Testing\n",
        "\n",
        "    # Put the model in evaluation mode\n",
        "    model_0.eval()\n",
        "\n",
        "    with torch.inference_mode():\n",
        "      # 1. Forward pass on test data\n",
        "      test_pred = model_0(X_test)\n",
        "\n",
        "      # 2. Caculate loss on test data\n",
        "      test_loss = loss_fn(test_pred, y_test.type(torch.float)) # predictions come in torch.float datatype, so comparisons need to be done with tensors of the same type\n",
        "\n",
        "      # Print out what's happening\n",
        "      if epoch % 50 == 0:\n",
        "            epoch_count.append(epoch)\n",
        "            train_loss_values.append(loss.detach().numpy())\n",
        "            test_loss_values.append(test_loss.detach().numpy())\n",
        "            print(f\"Epoch: {epoch} | MAE Train Loss: {loss} | MAE Test Loss: {test_loss} \")"
      ],
      "metadata": {
        "colab": {
          "base_uri": "https://localhost:8080/"
        },
        "id": "UreSTA9t_mVj",
        "outputId": "afb471b8-c0e8-465d-a20d-8f3d8cdb8902"
      },
      "execution_count": 15,
      "outputs": [
        {
          "output_type": "stream",
          "name": "stdout",
          "text": [
            "Epoch: 0 | MAE Train Loss: 0.31288138031959534 | MAE Test Loss: 0.4931890368461609 \n",
            "Epoch: 50 | MAE Train Loss: 0.2552763819694519 | MAE Test Loss: 0.4258342385292053 \n",
            "Epoch: 100 | MAE Train Loss: 0.19767141342163086 | MAE Test Loss: 0.35847947001457214 \n",
            "Epoch: 150 | MAE Train Loss: 0.14006686210632324 | MAE Test Loss: 0.2911251187324524 \n",
            "Epoch: 200 | MAE Train Loss: 0.08973254263401031 | MAE Test Loss: 0.22795839607715607 \n",
            "Epoch: 250 | MAE Train Loss: 0.06476505100727081 | MAE Test Loss: 0.18208928406238556 \n",
            "Epoch: 300 | MAE Train Loss: 0.05357731133699417 | MAE Test Loss: 0.15086300671100616 \n",
            "Epoch: 350 | MAE Train Loss: 0.04836020991206169 | MAE Test Loss: 0.13020753860473633 \n",
            "Epoch: 400 | MAE Train Loss: 0.04549176245927811 | MAE Test Loss: 0.11657620966434479 \n",
            "Epoch: 450 | MAE Train Loss: 0.04341452196240425 | MAE Test Loss: 0.10720770061016083 \n",
            "Epoch: 500 | MAE Train Loss: 0.04160415381193161 | MAE Test Loss: 0.10088418424129486 \n",
            "Epoch: 550 | MAE Train Loss: 0.03985908254981041 | MAE Test Loss: 0.09537436813116074 \n",
            "Epoch: 600 | MAE Train Loss: 0.03811401128768921 | MAE Test Loss: 0.08986451476812363 \n",
            "Epoch: 650 | MAE Train Loss: 0.03638043254613876 | MAE Test Loss: 0.08497253060340881 \n",
            "Epoch: 700 | MAE Train Loss: 0.03466346859931946 | MAE Test Loss: 0.08097299933433533 \n",
            "Epoch: 750 | MAE Train Loss: 0.032946161925792694 | MAE Test Loss: 0.07697348296642303 \n",
            "Epoch: 800 | MAE Train Loss: 0.03122851625084877 | MAE Test Loss: 0.07297395914793015 \n",
            "Epoch: 850 | MAE Train Loss: 0.029511287808418274 | MAE Test Loss: 0.0689057856798172 \n",
            "Epoch: 900 | MAE Train Loss: 0.027794325724244118 | MAE Test Loss: 0.06490625441074371 \n",
            "Epoch: 950 | MAE Train Loss: 0.02607722207903862 | MAE Test Loss: 0.06090673804283142 \n",
            "Epoch: 1000 | MAE Train Loss: 0.02435956709086895 | MAE Test Loss: 0.05690721794962883 \n",
            "Epoch: 1050 | MAE Train Loss: 0.022642139345407486 | MAE Test Loss: 0.05283904820680618 \n",
            "Epoch: 1100 | MAE Train Loss: 0.02092517353594303 | MAE Test Loss: 0.0488395169377327 \n",
            "Epoch: 1150 | MAE Train Loss: 0.019208211451768875 | MAE Test Loss: 0.04483998939394951 \n",
            "Epoch: 1200 | MAE Train Loss: 0.017490629106760025 | MAE Test Loss: 0.04084048420190811 \n",
            "Epoch: 1250 | MAE Train Loss: 0.015772998332977295 | MAE Test Loss: 0.036772288382053375 \n",
            "Epoch: 1300 | MAE Train Loss: 0.014056024141609669 | MAE Test Loss: 0.03277278691530228 \n",
            "Epoch: 1350 | MAE Train Loss: 0.012339059263467789 | MAE Test Loss: 0.028773266822099686 \n",
            "Epoch: 1400 | MAE Train Loss: 0.010621682740747929 | MAE Test Loss: 0.0247737355530262 \n",
            "Epoch: 1450 | MAE Train Loss: 0.008904037065804005 | MAE Test Loss: 0.020774226635694504 \n",
            "Epoch: 1500 | MAE Train Loss: 0.007186878472566605 | MAE Test Loss: 0.01670604944229126 \n",
            "Epoch: 1550 | MAE Train Loss: 0.005469909869134426 | MAE Test Loss: 0.012706518173217773 \n",
            "Epoch: 1600 | MAE Train Loss: 0.003752306802198291 | MAE Test Loss: 0.008672690019011497 \n",
            "Epoch: 1650 | MAE Train Loss: 0.002035337733104825 | MAE Test Loss: 0.004673170857131481 \n",
            "Epoch: 1700 | MAE Train Loss: 0.0003177322505507618 | MAE Test Loss: 0.0006393313524313271 \n",
            "Epoch: 1750 | MAE Train Loss: 0.0004444979131221771 | MAE Test Loss: 0.0005780101055279374 \n",
            "Epoch: 1800 | MAE Train Loss: 0.0004444979131221771 | MAE Test Loss: 0.0005780101055279374 \n",
            "Epoch: 1850 | MAE Train Loss: 0.0004444979131221771 | MAE Test Loss: 0.0005780101055279374 \n",
            "Epoch: 1900 | MAE Train Loss: 0.0004444979131221771 | MAE Test Loss: 0.0005780101055279374 \n",
            "Epoch: 1950 | MAE Train Loss: 0.0004444979131221771 | MAE Test Loss: 0.0005780101055279374 \n"
          ]
        }
      ]
    },
    {
      "cell_type": "code",
      "source": [
        "model_0.state_dict()"
      ],
      "metadata": {
        "colab": {
          "base_uri": "https://localhost:8080/"
        },
        "id": "cF5ZA8zeOcYq",
        "outputId": "84a12613-a4cd-4f52-f67a-651fffe0f570"
      },
      "execution_count": 16,
      "outputs": [
        {
          "output_type": "execute_result",
          "data": {
            "text/plain": [
              "OrderedDict([('weights', tensor([0.6994])), ('bias', tensor([0.2998]))])"
            ]
          },
          "metadata": {},
          "execution_count": 16
        }
      ]
    },
    {
      "cell_type": "code",
      "source": [
        "plot_predictions(predictions=y_preds);"
      ],
      "metadata": {
        "colab": {
          "base_uri": "https://localhost:8080/",
          "height": 428
        },
        "id": "3uFtjfWVYVkD",
        "outputId": "72bafc96-2a47-422c-f74c-3429fd3d091e"
      },
      "execution_count": 17,
      "outputs": [
        {
          "output_type": "display_data",
          "data": {
            "text/plain": [
              "<Figure size 720x504 with 1 Axes>"
            ],
            "image/png": "[encoded data removed]"
          },
          "metadata": {
            "needs_background": "light"
          }
        }
      ]
    },
    {
      "cell_type": "code",
      "source": [
        "with torch.inference_mode():\n",
        "  y_preds_new = model_0(X_test)"
      ],
      "metadata": {
        "id": "7e7wJ0P-P7bk"
      },
      "execution_count": 18,
      "outputs": []
    },
    {
      "cell_type": "code",
      "source": [
        "plot_predictions(predictions=y_preds_new);"
      ],
      "metadata": {
        "colab": {
          "base_uri": "https://localhost:8080/",
          "height": 428
        },
        "id": "6aKxfCpbQL2O",
        "outputId": "e464c154-d6fb-4704-c2f7-703cf368f2db"
      },
      "execution_count": 19,
      "outputs": [
        {
          "output_type": "display_data",
          "data": {
            "text/plain": [
              "<Figure size 720x504 with 1 Axes>"
            ],
            "image/png": "[encoded data removed]"
          },
          "metadata": {
            "needs_background": "light"
          }
        }
      ]
    },
    {
      "cell_type": "code",
      "source": [
        "# Plot the loss curves\n",
        "plt.plot(epoch_count, train_loss_values, label=\"Train loss\")\n",
        "plt.plot(epoch_count, test_loss_values, label=\"Test loss\")\n",
        "plt.title(\"Training and test loss curves\")\n",
        "plt.ylabel(\"Loss\")\n",
        "plt.xlabel(\"Epochs\")\n",
        "plt.legend();"
      ],
      "metadata": {
        "colab": {
          "base_uri": "https://localhost:8080/",
          "height": 295
        },
        "id": "H04kOk3hYij1",
        "outputId": "d2091eb0-a01d-41e2-a840-f1a7329ce9f1"
      },
      "execution_count": 20,
      "outputs": [
        {
          "output_type": "display_data",
          "data": {
            "text/plain": [
              "<Figure size 432x288 with 1 Axes>"
            ],
            "image/png": "[encoded data removed]"
          },
          "metadata": {
            "needs_background": "light"
          }
        }
      ]
    }
  ]
}